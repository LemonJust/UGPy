{
 "cells": [
  {
   "cell_type": "markdown",
   "id": "sophisticated-popularity",
   "metadata": {
    "pycharm": {
     "name": "#%% md\n"
    }
   },
   "source": [
    "### NAPARI PART"
   ]
  },
  {
   "cell_type": "code",
   "execution_count": 1,
   "id": "threatened-frederick",
   "metadata": {
    "pycharm": {
     "name": "#%%\n"
    }
   },
   "outputs": [],
   "source": [
    "from napari.layers import Points\n",
    "import napari\n",
    "import skimage.data\n",
    "import skimage.filters\n",
    "from napari.types import PointsData\n",
    "import pandas as pd\n",
    "import os\n",
    "import json\n",
    "import csv\n",
    "\n",
    "from magicgui import magicgui\n",
    "\n",
    "\n",
    "import datetime\n",
    "from enum import Enum\n",
    "from pathlib import Path"
   ]
  },
  {
   "cell_type": "markdown",
   "id": "employed-skirt",
   "metadata": {
    "pycharm": {
     "name": "#%% md\n"
    }
   },
   "source": [
    "### Input goes here: "
   ]
  },
  {
   "cell_type": "code",
   "execution_count": 2,
   "id": "normal-leader",
   "metadata": {
    "pycharm": {
     "name": "#%%\n"
    }
   },
   "outputs": [],
   "source": [
    "gui_csv = \"path_to_prediction_table.csv\"\n",
    "image_path = \"path_to_the_image\""
   ]
  },
  {
   "cell_type": "markdown",
   "id": "abroad-greece",
   "metadata": {
    "pycharm": {
     "name": "#%% md\n"
    }
   },
   "source": [
    "### Setting up:"
   ]
  },
  {
   "cell_type": "markdown",
   "id": "stuck-oracle",
   "metadata": {
    "pycharm": {
     "name": "#%% md\n"
    }
   },
   "source": [
    "this will load the csv ( just run it ) : "
   ]
  },
  {
   "cell_type": "code",
   "execution_count": null,
   "id": "little-majority",
   "metadata": {
    "pycharm": {
     "name": "#%%\n"
    }
   },
   "outputs": [],
   "source": [
    "gui_df = pd.read_csv(gui_csv)\n",
    "gui_df"
   ]
  },
  {
   "cell_type": "markdown",
   "id": "chemical-uzbekistan",
   "metadata": {
    "pycharm": {
     "name": "#%% md\n"
    }
   },
   "source": [
    "this will load some functions ( just run it ) : "
   ]
  },
  {
   "cell_type": "code",
   "execution_count": 123,
   "id": "educated-azerbaijan",
   "metadata": {
    "jupyter": {
     "source_hidden": true
    },
    "tags": [],
    "pycharm": {
     "name": "#%%\n"
    }
   },
   "outputs": [],
   "source": [
    "zyx = gui_df[['Z','Y','X']].values\n",
    "preds = gui_df['prob'].values\n",
    "# modify Ponts class\n",
    "class FixedPoints(Points):\n",
    "\n",
    "    def _move(self):\n",
    "        \"\"\"Points are not allowed to move.\"\"\"\n",
    "        pass\n",
    "    \n",
    "def prepare_output(npz_filename):\n",
    "    \"\"\"\n",
    "    Returns centroids and ROI start needed to use write csv from synspy.\n",
    "\n",
    "    Parameters:\n",
    "        npz_filename (string): path to npz with candidates\n",
    "    Returns:\n",
    "        centroids: centroid coordinates in the ROI space, in pixels\n",
    "        slice_origin: ROI start\n",
    "    \"\"\"\n",
    "    parts = np.load(npz_filename)\n",
    "    centroids = parts['centroids'].astype(np.int32)\n",
    "\n",
    "    props = json.loads(parts['properties'].tostring().decode('utf8'))\n",
    "    slice_origin = np.array(props['slice_origin'], dtype=np.int32)\n",
    "\n",
    "    return centroids, slice_origin\n",
    "\n",
    "def dump_segment_info_to_csv(centroids, measures, status, offset_origin,\n",
    "                             outfilename, saved_params=None,\n",
    "                             all_segments=True, zx_swap=False,\n",
    "                             zyx_grid_scale=None, filter_status=None):\n",
    "    \"\"\"Load a segment list with manual override status values validating against expected centroid list.\n",
    "\n",
    "       Arguments:\n",
    "         centroids: Nx3 array of Z,Y,X segment coordinates\n",
    "         measures: NxK array of segment measures\n",
    "         status: N array of segment status\n",
    "         offset_origin: CSV coordinates = offset_origin + centroid coordinates\n",
    "         outfilename: file to open to write CSV content\n",
    "         saved_params: dict or None if saving threshold params row\n",
    "         all_segments: True: dump all, False: dump only when matching filter_status values\n",
    "         zx_swap: True: input centroids are in X,Y,Z order\n",
    "         zyx_grid_scale: input centroids have been scaled by these coefficients in Z,Y,X order\n",
    "         filter_status: set of values to include in outputs or None implies all non-zero values\n",
    "    \"\"\"\n",
    "    if zx_swap:\n",
    "        centroids = centroids_zx_swap(centroids)\n",
    "    if zyx_grid_scale is not None:\n",
    "        zyx_grid_scale = np.array(zyx_grid_scale, dtype=np.float32)\n",
    "        assert zyx_grid_scale.shape == (3,)\n",
    "        centroids = centroids * zyx_grid_scale\n",
    "    # correct dumped centroids to global coordinate space of unsliced source image\n",
    "    centroids = centroids + np.array(offset_origin, np.int32)\n",
    "    csvfile = open(outfilename, 'w', newline='')\n",
    "    writer = csv.writer(csvfile)\n",
    "    writer.writerow(\n",
    "        ('Z', 'Y', 'X', 'raw core', 'raw hollow', 'DoG core', 'DoG hollow')\n",
    "        + (('red',) if (measures.shape[1] == 5) else ())\n",
    "        + ('override',)\n",
    "    )\n",
    "    if saved_params:\n",
    "        writer.writerow(\n",
    "            (\n",
    "                'saved',\n",
    "                'parameters',\n",
    "                saved_params.get('X', ''),\n",
    "                saved_params.get('raw core', ''),\n",
    "                saved_params.get('raw hollow', ''),\n",
    "                saved_params.get('DoG core', ''),\n",
    "                saved_params.get('DoG hollow', ''),\n",
    "            )\n",
    "            + ((saved_params.get('red', ''),) if 'red' in saved_params else ())\n",
    "            + (saved_params.get('override', ''),)\n",
    "        )\n",
    "\n",
    "    filter_idx = np.zeros(status.shape, dtype=np.bool)\n",
    "    if all_segments:\n",
    "        filter_idx += np.bool(1)\n",
    "    elif filter_status is not None:\n",
    "        for value in filter_status:\n",
    "            filter_idx += (status == value)\n",
    "    else:\n",
    "        filter_idx += (status > 0)\n",
    "\n",
    "    indices = (status > 0).nonzero()[0]\n",
    "\n",
    "    for i in indices:\n",
    "        Z, Y, X = centroids[i]\n",
    "        writer.writerow( \n",
    "            (Z, Y, X) + tuple(measures[i,m] for m in range(measures.shape[1])) + (status[i] or '',)\n",
    "        )\n",
    "    del writer\n",
    "    csvfile.close()\n",
    "    \n",
    "def write_to_csv(npz_file, binary_labels, outfilename):\n",
    "    print(f\"Gonna do it to {outfilename}\")\n",
    "    npz = np.load(npz_file)\n",
    "    print(f\"Got npz\")\n",
    "    placeholder_params = {'Z': 'saved',\n",
    "                          'Y': 'parameters',\n",
    "                          'X': '(core, vicinity, zerolvl, toplvl, transp):',\n",
    "                          'raw core': '0.0',\n",
    "                          'raw hollow': '3500.0',\n",
    "                          'DoG core': '0.0',\n",
    "                          'DoG hollow': '65535.0',\n",
    "                          'override': '0.8'}\n",
    "    # placeholder_origin = np.array([0,0,0], dtype='int32')\n",
    "    centroids, offset_origin = prepare_output(npz_file)\n",
    "    centroids = centroids[binary_labels, :]\n",
    "    measures = npz['measures']  # np.zeros((centroids.shape[0], 4), dtype='int32')\n",
    "    status = 7 * np.ones((centroids.shape[0]), dtype='int32')\n",
    "\n",
    "    dump_segment_info_to_csv(centroids, measures, status, offset_origin, outfilename,\n",
    "                             saved_params=placeholder_params)\n",
    "    print(f\"Saved to {outfilename}\")\n",
    "    \n"
   ]
  },
  {
   "cell_type": "markdown",
   "id": "attempted-astrology",
   "metadata": {
    "pycharm": {
     "name": "#%% md\n"
    }
   },
   "source": [
    "### Running NAPARI \n",
    "#### 1. Finding the threshold :\n",
    "'f' : flip the label ( good--> or bad--> good )\n",
    "\n",
    "'+' : increase size \n",
    "\n",
    "'-' : decrease size \n",
    "\n",
    "'b' : hide 'bad' points \n",
    "\n",
    "'g' : hide 'good' points"
   ]
  },
  {
   "cell_type": "markdown",
   "id": "early-tomato",
   "metadata": {
    "pycharm": {
     "name": "#%% md\n"
    }
   },
   "source": [
    "will call napari ( just run it ) : "
   ]
  },
  {
   "cell_type": "code",
   "execution_count": 120,
   "id": "violent-rhythm",
   "metadata": {
    "tags": [],
    "pycharm": {
     "name": "#%%\n"
    }
   },
   "outputs": [],
   "source": [
    "with napari.gui_qt():\n",
    "\n",
    "    viewer = napari.Viewer()\n",
    "    viewer.open(image_path, scale=resolution)\n",
    "    \n",
    "    n_points = zyx.shape[0]\n",
    "    point_size = np.array(n_points*[2])\n",
    "    visibility = np.array(n_points*[1])\n",
    "    \n",
    "    point_properties = {\n",
    "    'good_point': preds>0.5,\n",
    "    'preds': preds,\n",
    "    'old_size': point_size,\n",
    "    'visible': visibility\n",
    "    }\n",
    "    \n",
    "    points_layer = viewer.add_layer(FixedPoints(\n",
    "        zyx, ndim= 3,\n",
    "        size=point_size,\n",
    "        properties=point_properties, scale=resolution,\n",
    "        face_color='good_point',\n",
    "        face_color_cycle=['yellow','magenta'],\n",
    "        edge_width=1, name = 'points'\n",
    "    ))\n",
    "     \n",
    "    @viewer.bind_key('f')\n",
    "    def change_color(viewer):\n",
    "        for index in list(viewer.layers['points'].selected_data):\n",
    "            # to avoid changing points that are hidden: \n",
    "            print(viewer.layers['points'].size[index])\n",
    "            if viewer.layers['points'].size[index][0]>0:\n",
    "                current_status = viewer.layers['points'].properties['good_point'][index]\n",
    "                viewer.layers['points'].properties['good_point'][index] = not current_status\n",
    "        viewer.layers['points'].selected_data = []\n",
    "        viewer.layers['points'].refresh_colors(update_color_mapping=True)\n",
    "        \n",
    "    @viewer.bind_key('+')\n",
    "    # make point size larger\n",
    "    def make_larger(viewer):\n",
    "        current_size = viewer.layers['points'].size\n",
    "        is_visible = viewer.layers['points'].properties['visible']\n",
    "        print(is_visible)\n",
    "        print(current_size)\n",
    "        new_size = (current_size+0.5)*is_visible[:,np.newaxis]\n",
    "        print(new_size)\n",
    "        viewer.layers['points'].size=new_size\n",
    "        viewer.layers['points'].properties['old_size'] = new_size\n",
    "\n",
    "    @viewer.bind_key('-')\n",
    "    # make point size smaller\n",
    "    def make_smaller(viewer):\n",
    "        current_size = viewer.layers['points'].size\n",
    "        is_visible = viewer.layers['points'].properties['visible']\n",
    "        new_size = (current_size-0.5)*is_visible[:,np.newaxis]\n",
    "        viewer.layers['points'].size=new_size\n",
    "        viewer.layers['points'].properties['old_size'] = new_size\n",
    "        \n",
    "    @viewer.bind_key('b')\n",
    "    # make yellow points disappear \n",
    "    # \"v\" while having points selected makes all disappear \n",
    "    def hide_yellow_points(viewer):\n",
    "        \"\"\"Hides the yellow points\"\"\"\n",
    "        # bad_point = don't touch then, good_point = make it appear/disappear \n",
    "        bad_point= viewer.layers['points'].properties['good_point']\n",
    "        good_point = np.logical_not(bad_point)\n",
    "        \n",
    "        bad_size = np.unique(viewer.layers['points'].size[bad_point])[0]\n",
    "        good_size = np.unique(viewer.layers['points'].size[good_point])[0]\n",
    "        old_good_size = np.unique(viewer.layers['points'].properties['old_size'][good_point])[0]\n",
    "        print(old_good_size)\n",
    "        \n",
    "        print(f\"Bad size : {bad_size}\")\n",
    "        print(f\"Good size : {good_size}\")\n",
    "        \n",
    "        if good_size==0:\n",
    "            viewer.layers['points'].properties['visible'][good_point] = 1\n",
    "            if bad_size>0:\n",
    "                viewer.layers['points'].size[good_point] = bad_size\n",
    "            else:\n",
    "                viewer.layers['points'].size[good_point] = old_good_size\n",
    "        else:\n",
    "            viewer.layers['points'].properties['visible'][good_point] = 0\n",
    "            viewer.layers['points'].size[good_point] = 0\n",
    "        viewer.layers['points'].refresh()\n",
    "    \n",
    "    @viewer.bind_key('g')\n",
    "    # make magenta points disappear \n",
    "    # \"v\" while having points selected makes all disappear \n",
    "    def hide_magenta_points(viewer):\n",
    "        \"\"\"Hides the magenta points\"\"\"\n",
    "        \n",
    "        good_point = viewer.layers['points'].properties['good_point']\n",
    "        bad_point = np.logical_not(good_point)\n",
    "        \n",
    "        bad_size = np.unique(viewer.layers['points'].size[bad_point])[0]\n",
    "        good_size = np.unique(viewer.layers['points'].size[good_point])[0]\n",
    "        old_good_size = np.unique(viewer.layers['points'].properties['old_size'][good_point])[0]\n",
    "        print(old_good_size)\n",
    "        \n",
    "        print(f\"Bad size : {bad_size}\")\n",
    "        print(f\"Good size : {good_size}\")\n",
    "        \n",
    "        if good_size==0:\n",
    "            viewer.layers['points'].properties['visible'][good_point] = 1\n",
    "            if bad_size>0:\n",
    "                viewer.layers['points'].size[good_point] = bad_size\n",
    "            else:\n",
    "                viewer.layers['points'].size[good_point] = old_good_size\n",
    "        else:\n",
    "            viewer.layers['points'].properties['visible'][good_point] = 0\n",
    "            viewer.layers['points'].size[good_point] = 0\n",
    "        viewer.layers['points'].refresh()\n",
    "            \n",
    "            \n",
    "    # thresholding:    \n",
    "    @magicgui(auto_call=True)\n",
    "    def prob_threshold_box(threshold_prc = 50):\n",
    "        \"\"\" Gets rid of weak and old: only changes the color for now\"\"\"\n",
    "        threshold = threshold_prc/100\n",
    "        preds = viewer.layers['points'].properties['preds']\n",
    "        viewer.layers['points'].properties['good_point'] = preds>threshold\n",
    "        viewer.layers['points'].refresh_colors(update_color_mapping=True)\n",
    "     \n",
    "    @magicgui(\n",
    "    call_button=\"Save Segmentation\"\n",
    "    )\n",
    "    def save_segmentation(save_file = Path('/save/path.ext'),npz_file = Path('')):   \n",
    "        status = viewer.layers['points'].properties['good_point']\n",
    "        write_to_csv(npz_file, status, save_file)\n",
    "\n",
    "        \n",
    "    # Add slider\n",
    "    viewer.window.add_dock_widget(save_segmentation, area='right')\n",
    "    viewer.window.add_dock_widget(prob_threshold_box,area='right')\n",
    "        "
   ]
  }
 ],
 "metadata": {
  "kernelspec": {
   "display_name": "Python 3",
   "language": "python",
   "name": "python3"
  },
  "language_info": {
   "codemirror_mode": {
    "name": "ipython",
    "version": 3
   },
   "file_extension": ".py",
   "mimetype": "text/x-python",
   "name": "python",
   "nbconvert_exporter": "python",
   "pygments_lexer": "ipython3",
   "version": "3.8.8"
  }
 },
 "nbformat": 4,
 "nbformat_minor": 5
}